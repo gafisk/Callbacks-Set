{
 "cells": [
  {
   "cell_type": "code",
   "execution_count": null,
   "metadata": {},
   "outputs": [],
   "source": [
    "from tensorflow.keras.callbacks import ModelCheckpoint\n",
    "# Callback to save the model at each epoch\n",
    "checkpoint_callback = ModelCheckpoint(\n",
    "    filepath='Checkpoints/model_epoch_{epoch:02d}.h5',  #Perhatikan Directory Penyimpanan\n",
    "    save_weights_only=True, #Jika ingin menyimpan seluruh arsitektur model. Ganti menjadi False\n",
    "    save_freq='epoch'\n",
    ")"
   ]
  }
 ],
 "metadata": {
  "language_info": {
   "name": "python"
  }
 },
 "nbformat": 4,
 "nbformat_minor": 2
}
